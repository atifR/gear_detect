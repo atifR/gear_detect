{
 "cells": [
  {
   "cell_type": "markdown",
   "metadata": {},
   "source": [
    "## Demo notebook to detect whether people are using safety gear or not\n",
    "\n",
    "The data is taken from <br>\n"
   ]
  },
  {
   "cell_type": "markdown",
   "metadata": {},
   "source": [
    "imports ..."
   ]
  },
  {
   "cell_type": "code",
   "execution_count": 24,
   "metadata": {},
   "outputs": [],
   "source": [
    "import os \n",
    "import torch\n",
    "from torch import nn, optim\n",
    "import torchvision\n",
    "from torchvision.datasets import ImageFolder\n",
    "from torch.utils.data import DataLoader, random_split\n",
    "import torchvision.transforms.v2 as v2\n",
    "import math\n",
    "import time "
   ]
  },
  {
   "cell_type": "markdown",
   "metadata": {},
   "source": [
    "Parametes "
   ]
  },
  {
   "cell_type": "code",
   "execution_count": 12,
   "metadata": {},
   "outputs": [
    {
     "name": "stdout",
     "output_type": "stream",
     "text": [
      "Using device: cpu\n",
      "Settings ... \n",
      " dataset path \t\t ../Dataset \n",
      " batch_size \t\t 32\n",
      " train_ratio \t\t 0.85 \n",
      " validation ratio \t 0.0 \n",
      " test ratio \t\t 0.15 \n",
      " device \t\t cpu\n"
     ]
    }
   ],
   "source": [
    "dataset_folder  = \"../Dataset\"\n",
    "batch_size = 32\n",
    "train_ratio = 0.85\n",
    "valid_ratio = 0.0\n",
    "test_ratio = 0.15\n",
    "device = torch.device('cuda' if torch.cuda.is_available() else 'cpu')\n",
    "print('Using device:', device)\n",
    "\n",
    "print (f\"Settings ... \\n dataset path \\t\\t {dataset_folder} \\n batch_size \\t\\t {batch_size}\" +\n",
    "       f\"\\n train_ratio \\t\\t {train_ratio} \\n validation ratio \\t {valid_ratio} \\n test ratio \\t\\t {test_ratio} \\n device \\t\\t {device}\")"
   ]
  },
  {
   "cell_type": "markdown",
   "metadata": {},
   "source": [
    "Check the classes in the folder"
   ]
  },
  {
   "cell_type": "code",
   "execution_count": 5,
   "metadata": {},
   "outputs": [
    {
     "name": "stdout",
     "output_type": "stream",
     "text": [
      "['Wearing Safety Gear', 'Not Wearing Safety Gear']\n",
      "2\n"
     ]
    }
   ],
   "source": [
    "class_labels = [name for name in os.listdir(dataset_folder) if not name.startswith(\".DS_Store\")]\n",
    "print(class_labels)\n",
    "num_classes = len(class_labels)\n",
    "print(num_classes)"
   ]
  },
  {
   "cell_type": "markdown",
   "metadata": {},
   "source": [
    "Creating dataset from the image folder "
   ]
  },
  {
   "cell_type": "code",
   "execution_count": 6,
   "metadata": {},
   "outputs": [],
   "source": [
    "mean = [0.485, 0.456, 0.406]\n",
    "std = [0.229, 0.224, 0.225]\n",
    "\n",
    "transformations = v2.Compose([\n",
    "    v2.ToImage(),\n",
    "    v2.RandomHorizontalFlip(),\n",
    "    v2.RandomVerticalFlip(),\n",
    "    v2.RandomResizedCrop(size=(256, 256), antialias=True),\n",
    "    v2.RandomRotation(degrees = (0, 170)),\n",
    "    v2.ToDtype(dtype = torch.float32, scale = True),\n",
    "    v2.Resize(size = (256, 256), antialias = True),\n",
    "    v2.Normalize(mean, std)\n",
    "])\n",
    "\n",
    "dataset = ImageFolder(dataset_folder, transform = transformations)\n"
   ]
  },
  {
   "cell_type": "markdown",
   "metadata": {},
   "source": [
    "probe stats from the Image folder "
   ]
  },
  {
   "cell_type": "code",
   "execution_count": 10,
   "metadata": {},
   "outputs": [
    {
     "name": "stdout",
     "output_type": "stream",
     "text": [
      "classes ['Not Wearing Safety Gear', 'Wearing Safety Gear']\n"
     ]
    }
   ],
   "source": [
    "print (f\"classes {dataset.classes}\")\n",
    "d = dataset.class_to_idx"
   ]
  },
  {
   "cell_type": "markdown",
   "metadata": {},
   "source": [
    "splitting the dataset <br>\n",
    "this is a small dataset, we ar eonly using train and test dataset "
   ]
  },
  {
   "cell_type": "code",
   "execution_count": 17,
   "metadata": {},
   "outputs": [
    {
     "name": "stdout",
     "output_type": "stream",
     "text": [
      "dataset 355, train dataset 302, test size 53\n",
      "Lenght of training dataset 302\n",
      "Lenght of test dataset 53\n"
     ]
    }
   ],
   "source": [
    "train_size = math.ceil(len(dataset) * train_ratio)\n",
    "test_szie = math.floor(len(dataset) * test_ratio)\n",
    "print(f\"dataset {len(dataset)}, train dataset {train_size}, test size {test_szie}\")\n",
    "\n",
    "train_dataset, test_dataset = random_split(dataset,[train_size, test_szie])\n",
    "\n",
    "train_dataloader = DataLoader(train_dataset,shuffle=True,batch_size=batch_size)\n",
    "test_dataloader = DataLoader(test_dataset,shuffle=True, batch_size=batch_size)\n",
    "\n",
    "print(f\"Lenght of training dataset {len(train_dataloader.dataset)}\")\n",
    "print(f\"Lenght of test dataset {len(test_dataloader.dataset)}\")"
   ]
  },
  {
   "cell_type": "markdown",
   "metadata": {},
   "source": [
    "try ResNet "
   ]
  },
  {
   "cell_type": "code",
   "execution_count": 22,
   "metadata": {},
   "outputs": [],
   "source": [
    "res_net = torchvision.models.resnet50(weights='IMAGENET1K_V1')\n",
    "\n",
    "for param in res_net.parameters():\n",
    "    param.requires_grad = False\n",
    "\n",
    "res_net.fc  = torch.nn.Sequential(\n",
    "    nn.Linear(2048,128),\n",
    "    nn.ReLU(),\n",
    "    nn.Linear(\n",
    "        in_features=128,\n",
    "        out_features=num_classes\n",
    "    ),\n",
    ")\n",
    "\n"
   ]
  },
  {
   "cell_type": "markdown",
   "metadata": {},
   "source": [
    "ANy other model(s) to evalaute can go here ... "
   ]
  },
  {
   "cell_type": "code",
   "execution_count": null,
   "metadata": {},
   "outputs": [],
   "source": []
  },
  {
   "cell_type": "code",
   "execution_count": 23,
   "metadata": {},
   "outputs": [],
   "source": [
    "model_to_evaluate = res_net"
   ]
  },
  {
   "cell_type": "code",
   "execution_count": null,
   "metadata": {},
   "outputs": [],
   "source": [
    "criterion = nn.CrossEntropyLoss()\n",
    "optimizer = optim.Adam(res_net.fc.parameters())"
   ]
  },
  {
   "cell_type": "markdown",
   "metadata": {},
   "source": [
    "training method "
   ]
  },
  {
   "cell_type": "code",
   "execution_count": null,
   "metadata": {},
   "outputs": [],
   "source": [
    "def train_model(model,criterion,optimier, data_loader,device, num_epochs=0):\n",
    "    model.to(device)\n",
    "    for epoch in range(num_epochs):\n",
    "        loss_batches = 0 \n",
    "        corrects_batches = 0\n",
    "        start_time = time.time()\n",
    "        for x,y in data_loader:\n",
    "            \n",
    "            x,y = x.to(device), y.to(device)\n",
    "            \n",
    "            outputs = model(x)\n",
    "            loss = criterion(outputs,y)\n",
    "            optimier.zero_grad()\n",
    "            loss.backward()\n",
    "            optimier.step()\n",
    "            _,preds = torch.max(outputs,1)\n",
    "            loss_batches += loss.item() * x.size(0)\n",
    "            corrects_batches += torch.sum(preds == y.data)\n",
    "        epoch_loss = loss_batches / len(data_loader)\n",
    "        epoch_acc = corrects_batches.double() / len(data_loader)\n",
    "        print(f\"\\n epoch {epoch} Loss : {epoch_loss:.4f} Accuracy {epoch_acc:.2f} time {(time.time()-start_time):.03d} secs\")\n",
    "\n",
    "    return model \n"
   ]
  }
 ],
 "metadata": {
  "kernelspec": {
   "display_name": "base",
   "language": "python",
   "name": "python3"
  },
  "language_info": {
   "codemirror_mode": {
    "name": "ipython",
    "version": 3
   },
   "file_extension": ".py",
   "mimetype": "text/x-python",
   "name": "python",
   "nbconvert_exporter": "python",
   "pygments_lexer": "ipython3",
   "version": "3.11.4"
  }
 },
 "nbformat": 4,
 "nbformat_minor": 2
}
