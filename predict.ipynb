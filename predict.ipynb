{
 "cells": [
  {
   "cell_type": "markdown",
   "metadata": {},
   "source": [
    "## Demo notebook to detect whether people are using safety gear or not\n",
    "\n",
    "The data is taken from <br>\n"
   ]
  },
  {
   "cell_type": "markdown",
   "metadata": {},
   "source": [
    "imports ..."
   ]
  },
  {
   "cell_type": "code",
   "execution_count": 1,
   "metadata": {},
   "outputs": [],
   "source": [
    "import os \n",
    "import torch\n",
    "from torch import nn, optim\n",
    "import torchvision\n",
    "from torchvision.datasets import ImageFolder\n",
    "from torch.utils.data import DataLoader, random_split\n",
    "import torchvision.transforms.v2 as v2\n",
    "import math\n",
    "import time "
   ]
  },
  {
   "cell_type": "markdown",
   "metadata": {},
   "source": [
    "Parametes "
   ]
  },
  {
   "cell_type": "code",
   "execution_count": 2,
   "metadata": {},
   "outputs": [
    {
     "name": "stdout",
     "output_type": "stream",
     "text": [
      "Using device: cuda\n",
      "Settings ... \n",
      " dataset path \t\t ../Dataset \n",
      " batch_size \t\t 32\n",
      " train_ratio \t\t 0.85 \n",
      " validation ratio \t 0.0 \n",
      " test ratio \t\t 0.15 \n",
      " device \t\t cuda\n"
     ]
    }
   ],
   "source": [
    "dataset_folder  = \"../Dataset\"\n",
    "batch_size = 32\n",
    "train_ratio = 0.85\n",
    "valid_ratio = 0.0\n",
    "test_ratio = 0.15\n",
    "device = torch.device('cuda' if torch.cuda.is_available() else 'cpu')\n",
    "print('Using device:', device)\n",
    "\n",
    "print (f\"Settings ... \\n dataset path \\t\\t {dataset_folder} \\n batch_size \\t\\t {batch_size}\" +\n",
    "       f\"\\n train_ratio \\t\\t {train_ratio} \\n validation ratio \\t {valid_ratio} \\n test ratio \\t\\t {test_ratio} \\n device \\t\\t {device}\")"
   ]
  },
  {
   "cell_type": "markdown",
   "metadata": {},
   "source": [
    "Check the classes in the folder"
   ]
  },
  {
   "cell_type": "code",
   "execution_count": 3,
   "metadata": {},
   "outputs": [
    {
     "name": "stdout",
     "output_type": "stream",
     "text": [
      "['Not Wearing Safety Gear', 'Wearing Safety Gear']\n",
      "2\n"
     ]
    }
   ],
   "source": [
    "class_labels = [name for name in os.listdir(dataset_folder) if not name.startswith(\".DS_Store\")]\n",
    "print(class_labels)\n",
    "num_classes = len(class_labels)\n",
    "print(num_classes)"
   ]
  },
  {
   "cell_type": "markdown",
   "metadata": {},
   "source": [
    "Creating dataset from the image folder "
   ]
  },
  {
   "cell_type": "code",
   "execution_count": 4,
   "metadata": {},
   "outputs": [],
   "source": [
    "mean = [0.485, 0.456, 0.406]\n",
    "std = [0.229, 0.224, 0.225]\n",
    "\n",
    "transformations = v2.Compose([\n",
    "    v2.ToImage(),\n",
    "    v2.RandomHorizontalFlip(),\n",
    "    v2.RandomVerticalFlip(),\n",
    "    v2.RandomResizedCrop(size=(256, 256), antialias=True),\n",
    "    v2.RandomRotation(degrees = (0, 170)),\n",
    "    v2.ToDtype(dtype = torch.float32, scale = True),\n",
    "    v2.Resize(size = (256, 256), antialias = True),\n",
    "    v2.Normalize(mean, std)\n",
    "])\n",
    "\n",
    "dataset = ImageFolder(dataset_folder, transform = transformations)\n"
   ]
  },
  {
   "cell_type": "markdown",
   "metadata": {},
   "source": [
    "probe stats from the Image folder "
   ]
  },
  {
   "cell_type": "code",
   "execution_count": 5,
   "metadata": {},
   "outputs": [
    {
     "name": "stdout",
     "output_type": "stream",
     "text": [
      "classes ['Not Wearing Safety Gear', 'Wearing Safety Gear']\n"
     ]
    }
   ],
   "source": [
    "print (f\"classes {dataset.classes}\")\n",
    "d = dataset.class_to_idx"
   ]
  },
  {
   "cell_type": "markdown",
   "metadata": {},
   "source": [
    "splitting the dataset <br>\n",
    "this is a small dataset, we ar eonly using train and test dataset "
   ]
  },
  {
   "cell_type": "code",
   "execution_count": 6,
   "metadata": {},
   "outputs": [
    {
     "name": "stdout",
     "output_type": "stream",
     "text": [
      "dataset 355, train dataset 302, test size 53\n",
      "Lenght of training dataset 302\n",
      "Lenght of test dataset 53\n"
     ]
    }
   ],
   "source": [
    "train_size = math.ceil(len(dataset) * train_ratio)\n",
    "test_szie = math.floor(len(dataset) * test_ratio)\n",
    "print(f\"dataset {len(dataset)}, train dataset {train_size}, test size {test_szie}\")\n",
    "\n",
    "train_dataset, test_dataset = random_split(dataset,[train_size, test_szie])\n",
    "\n",
    "train_dataloader = DataLoader(train_dataset,shuffle=True,batch_size=batch_size)\n",
    "test_dataloader = DataLoader(test_dataset,shuffle=True, batch_size=batch_size)\n",
    "\n",
    "print(f\"Lenght of training dataset {len(train_dataloader.dataset)}\")\n",
    "print(f\"Lenght of test dataset {len(test_dataloader.dataset)}\")"
   ]
  },
  {
   "cell_type": "markdown",
   "metadata": {},
   "source": [
    "try ResNet "
   ]
  },
  {
   "cell_type": "code",
   "execution_count": 7,
   "metadata": {},
   "outputs": [],
   "source": [
    "res_net = torchvision.models.resnet50(weights='IMAGENET1K_V1')\n",
    "\n",
    "for param in res_net.parameters():\n",
    "    param.requires_grad = False\n",
    "\n",
    "res_net.fc  = torch.nn.Sequential(\n",
    "    nn.Linear(2048,128),\n",
    "    nn.ReLU(),\n",
    "    nn.Linear(\n",
    "        in_features=128,\n",
    "        out_features=num_classes\n",
    "    ),\n",
    ")\n",
    "\n"
   ]
  },
  {
   "cell_type": "markdown",
   "metadata": {},
   "source": [
    "ANy other model(s) to evalaute can go here ... "
   ]
  },
  {
   "cell_type": "code",
   "execution_count": null,
   "metadata": {},
   "outputs": [],
   "source": []
  },
  {
   "cell_type": "code",
   "execution_count": 8,
   "metadata": {},
   "outputs": [],
   "source": [
    "model_to_evaluate = res_net"
   ]
  },
  {
   "cell_type": "code",
   "execution_count": 9,
   "metadata": {},
   "outputs": [],
   "source": [
    "criterion = nn.CrossEntropyLoss()\n",
    "optimizer = optim.Adam(res_net.fc.parameters())"
   ]
  },
  {
   "cell_type": "markdown",
   "metadata": {},
   "source": [
    "training method "
   ]
  },
  {
   "cell_type": "code",
   "execution_count": 14,
   "metadata": {},
   "outputs": [],
   "source": [
    "def train_model(model,model_name,criterion,optimier, data_loader,device, num_epochs=0):\n",
    "    model.to(device)\n",
    "    for epoch in range(num_epochs):\n",
    "        #loss_batches = 0\n",
    "        loss_epoch=0;\n",
    "        corrects_batches = 0\n",
    "        count = 0\n",
    "        start = time.time()\n",
    "        correct = 0\n",
    "        total = 0\n",
    "        data_loading_begin = time.time()\n",
    "        data_loading_time = 0\n",
    "        data_processing_time = 0 \n",
    "        for x,y in data_loader:\n",
    "            \n",
    "            x,y = x.to(device), y.to(device)\n",
    "            data_loading_time += (time.time()-data_loading_begin)\n",
    "            processing_time_begin = time.rime()\n",
    "            outputs = model(x)\n",
    "            loss = criterion(outputs,y)\n",
    "            optimier.zero_grad()\n",
    "            loss.backward()\n",
    "            optimier.step()\n",
    "            data_processing_time += (time.time()-processing_time_begin)\n",
    "            _,preds = torch.max(outputs,1)\n",
    "\n",
    "            correct += (preds == y).sum().item()\n",
    "            total += preds.size(0)\n",
    "            loss_epoch += loss.item()\n",
    "            count += 1\n",
    "            data_loading_begin = time.time()\n",
    "        #epoch_loss = loss_batches / len(data_loader)\n",
    "        epoch_acc = correct / total\n",
    "        print(f\"\\n epoch {epoch} Loss : {(loss_epoch/count):.4f} Accuracy {epoch_acc:.2f}, time : {time.time()-start} secs\")\n",
    "        print(f\"data loading time {data_loading_begin} secs, data processing time {data_processing_time} secs\")\n",
    "        if (epoch % 3 == 0 ):\n",
    "          torch.save(model.state_dict(),f\"{model_name}_{epoch:02d}_{epoch_acc:.2f}.h5\")\n",
    "    return model\n",
    "\n"
   ]
  },
  {
   "cell_type": "code",
   "execution_count": 16,
   "metadata": {},
   "outputs": [
    {
     "name": "stdout",
     "output_type": "stream",
     "text": [
      "\n",
      " epoch 0 Loss : 0.1799 Accuracy 0.92, time : 12.756886720657349 secs\n",
      "\n",
      " epoch 1 Loss : 0.1867 Accuracy 0.94, time : 12.604556798934937 secs\n",
      "\n",
      " epoch 2 Loss : 0.1471 Accuracy 0.95, time : 12.284484148025513 secs\n",
      "\n",
      " epoch 3 Loss : 0.1882 Accuracy 0.92, time : 12.446424722671509 secs\n",
      "\n",
      " epoch 4 Loss : 0.1749 Accuracy 0.93, time : 12.15696096420288 secs\n",
      "\n",
      " epoch 5 Loss : 0.1348 Accuracy 0.95, time : 12.539088010787964 secs\n",
      "\n",
      " epoch 6 Loss : 0.1780 Accuracy 0.93, time : 12.488744974136353 secs\n",
      "\n",
      " epoch 7 Loss : 0.1506 Accuracy 0.94, time : 12.393513679504395 secs\n",
      "\n",
      " epoch 8 Loss : 0.1670 Accuracy 0.94, time : 12.584825277328491 secs\n",
      "\n",
      " epoch 9 Loss : 0.1390 Accuracy 0.94, time : 12.533288717269897 secs\n",
      "\n",
      " epoch 10 Loss : 0.1793 Accuracy 0.93, time : 12.304673910140991 secs\n",
      "\n",
      " epoch 11 Loss : 0.1409 Accuracy 0.94, time : 12.370587825775146 secs\n",
      "\n",
      " epoch 12 Loss : 0.1576 Accuracy 0.95, time : 12.182594537734985 secs\n",
      "\n",
      " epoch 13 Loss : 0.2559 Accuracy 0.91, time : 12.047194719314575 secs\n",
      "\n",
      " epoch 14 Loss : 0.1861 Accuracy 0.93, time : 12.249727487564087 secs\n",
      "\n",
      " epoch 15 Loss : 0.2347 Accuracy 0.89, time : 12.679795980453491 secs\n",
      "\n",
      " epoch 16 Loss : 0.1790 Accuracy 0.93, time : 12.444877862930298 secs\n",
      "\n",
      " epoch 17 Loss : 0.2741 Accuracy 0.88, time : 12.39663577079773 secs\n",
      "\n",
      " epoch 18 Loss : 0.1458 Accuracy 0.94, time : 12.25167989730835 secs\n",
      "\n",
      " epoch 19 Loss : 0.1432 Accuracy 0.94, time : 12.515881299972534 secs\n",
      "\n",
      " epoch 20 Loss : 0.1225 Accuracy 0.95, time : 12.305483341217041 secs\n",
      "\n",
      " epoch 21 Loss : 0.1770 Accuracy 0.92, time : 12.715298652648926 secs\n",
      "\n",
      " epoch 22 Loss : 0.1499 Accuracy 0.94, time : 12.392862319946289 secs\n",
      "\n",
      " epoch 23 Loss : 0.1741 Accuracy 0.93, time : 12.10053539276123 secs\n",
      "\n",
      " epoch 24 Loss : 0.1588 Accuracy 0.93, time : 12.279529571533203 secs\n",
      "\n",
      " epoch 25 Loss : 0.1880 Accuracy 0.91, time : 12.32238483428955 secs\n",
      "\n",
      " epoch 26 Loss : 0.1995 Accuracy 0.91, time : 12.345942497253418 secs\n",
      "\n",
      " epoch 27 Loss : 0.1488 Accuracy 0.94, time : 12.253679037094116 secs\n",
      "\n",
      " epoch 28 Loss : 0.2064 Accuracy 0.92, time : 12.461289167404175 secs\n",
      "\n",
      " epoch 29 Loss : 0.2576 Accuracy 0.91, time : 12.53077244758606 secs\n"
     ]
    }
   ],
   "source": [
    "train_model(model_to_evaluate,\"res_net\",criterion=criterion, optimier=optimizer,\n",
    "            data_loader=train_dataloader, device=device, num_epochs=30)\n",
    "\n",
    "torch.save(model_to_evaluate.state_dict(),'resNet.h5')"
   ]
  },
  {
   "cell_type": "code",
   "execution_count": 12,
   "metadata": {},
   "outputs": [],
   "source": [
    "def calculate_accuracy(loader, model):\n",
    "    correct = 0\n",
    "    total = 0\n",
    "    model.eval()\n",
    "    with torch.no_grad():\n",
    "        for x, y in loader:\n",
    "            x,y = x.to(device), y.to(device)\n",
    "            scores = model(x)\n",
    "            _, predictions = scores.max(1)\n",
    "            correct += (predictions == y).sum().item()\n",
    "            total += predictions.size(0)\n",
    "    model.train()\n",
    "    return correct/total"
   ]
  },
  {
   "cell_type": "code",
   "execution_count": 13,
   "metadata": {},
   "outputs": [
    {
     "name": "stdout",
     "output_type": "stream",
     "text": [
      "Training Accuracy is 94.37086092715232\n",
      "Testing Accuracy is 94.33962264150944\n"
     ]
    }
   ],
   "source": [
    "print(f\"Training Accuracy is {calculate_accuracy(train_dataloader, res_net)*100}\")\n",
    "\n",
    "print(f\"Testing Accuracy is {calculate_accuracy(test_dataloader, res_net)*100}\")"
   ]
  },
  {
   "cell_type": "code",
   "execution_count": null,
   "metadata": {},
   "outputs": [],
   "source": []
  }
 ],
 "metadata": {
  "kernelspec": {
   "display_name": "base",
   "language": "python",
   "name": "python3"
  },
  "language_info": {
   "codemirror_mode": {
    "name": "ipython",
    "version": 3
   },
   "file_extension": ".py",
   "mimetype": "text/x-python",
   "name": "python",
   "nbconvert_exporter": "python",
   "pygments_lexer": "ipython3",
   "version": "3.11.9"
  }
 },
 "nbformat": 4,
 "nbformat_minor": 2
}
